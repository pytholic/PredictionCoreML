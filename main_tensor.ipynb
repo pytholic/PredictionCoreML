{
 "cells": [
  {
   "cell_type": "code",
   "execution_count": 153,
   "id": "f072f857",
   "metadata": {},
   "outputs": [],
   "source": [
    "import coremltools as ct\n",
    "import numpy as np\n",
    "import PIL.Image\n",
    "import cv2\n",
    "import torchvision.transforms as T\n",
    "import torch"
   ]
  },
  {
   "cell_type": "code",
   "execution_count": 154,
   "id": "caa2e276",
   "metadata": {},
   "outputs": [],
   "source": [
    "def get_transform():\n",
    "    mean = 127.5\n",
    "    std = 127.5\n",
    "    normalize = T.Normalize(mean=mean, std=std)\n",
    "    return T.Compose([normalize])"
   ]
  },
  {
   "cell_type": "code",
   "execution_count": 155,
   "id": "68547a64",
   "metadata": {},
   "outputs": [],
   "source": [
    "model = ct.models.MLModel('./best_model_tensor.mlmodel')"
   ]
  },
  {
   "cell_type": "code",
   "execution_count": 156,
   "id": "ac8e1bc0",
   "metadata": {
    "scrolled": false
   },
   "outputs": [
    {
     "name": "stdout",
     "output_type": "stream",
     "text": [
      "[name: \"input_1\"\n",
      "type {\n",
      "  multiArrayType {\n",
      "    shape: 1\n",
      "    shape: 3\n",
      "    shape: 240\n",
      "    shape: 320\n",
      "    dataType: FLOAT32\n",
      "  }\n",
      "}\n",
      "]\n"
     ]
    }
   ],
   "source": [
    "# Print input description to get input shape.\n",
    "print(model.get_spec().description.input)"
   ]
  },
  {
   "cell_type": "code",
   "execution_count": 157,
   "id": "7c1a66ed",
   "metadata": {},
   "outputs": [],
   "source": [
    "model_expected_input_shape = (1, 3, 240, 320)"
   ]
  },
  {
   "cell_type": "code",
   "execution_count": 158,
   "id": "02859a67",
   "metadata": {},
   "outputs": [],
   "source": [
    "def load_image_as_tensor(path):\n",
    "    img = cv2.imread(path)\n",
    "    img = torch.from_numpy(img)\n",
    "    img = img.permute(2, 0, 1)\n",
    "    img = img.unsqueeze(0)\n",
    "    img = img.float()\n",
    "    img = get_transform()(img)\n",
    "    img = img.numpy()\n",
    "    return img"
   ]
  },
  {
   "cell_type": "code",
   "execution_count": 174,
   "id": "d579b201",
   "metadata": {},
   "outputs": [],
   "source": [
    "img_as_tensor = load_image_as_tensor('./data/standing_3.png')"
   ]
  },
  {
   "cell_type": "code",
   "execution_count": 175,
   "id": "ca5f8bd6",
   "metadata": {},
   "outputs": [
    {
     "name": "stdout",
     "output_type": "stream",
     "text": [
      "[[[[-1. -1. -1. ... -1. -1. -1.]\n",
      "   [-1. -1. -1. ... -1. -1. -1.]\n",
      "   [-1. -1. -1. ... -1. -1. -1.]\n",
      "   ...\n",
      "   [-1. -1. -1. ... -1. -1. -1.]\n",
      "   [-1. -1. -1. ... -1. -1. -1.]\n",
      "   [-1. -1. -1. ... -1. -1. -1.]]\n",
      "\n",
      "  [[-1. -1. -1. ... -1. -1. -1.]\n",
      "   [-1. -1. -1. ... -1. -1. -1.]\n",
      "   [-1. -1. -1. ... -1. -1. -1.]\n",
      "   ...\n",
      "   [-1. -1. -1. ... -1. -1. -1.]\n",
      "   [-1. -1. -1. ... -1. -1. -1.]\n",
      "   [-1. -1. -1. ... -1. -1. -1.]]\n",
      "\n",
      "  [[-1. -1. -1. ... -1. -1. -1.]\n",
      "   [-1. -1. -1. ... -1. -1. -1.]\n",
      "   [-1. -1. -1. ... -1. -1. -1.]\n",
      "   ...\n",
      "   [-1. -1. -1. ... -1. -1. -1.]\n",
      "   [-1. -1. -1. ... -1. -1. -1.]\n",
      "   [-1. -1. -1. ... -1. -1. -1.]]]]\n"
     ]
    }
   ],
   "source": [
    "print(img_as_tensor)"
   ]
  },
  {
   "cell_type": "code",
   "execution_count": 176,
   "id": "faaaa949",
   "metadata": {},
   "outputs": [
    {
     "name": "stdout",
     "output_type": "stream",
     "text": [
      "(1, 3, 240, 320)\n"
     ]
    }
   ],
   "source": [
    "print(img_as_tensor.shape)"
   ]
  },
  {
   "cell_type": "code",
   "execution_count": 177,
   "id": "93f40a3f",
   "metadata": {},
   "outputs": [],
   "source": [
    "out_dict = model.predict({'input_1': img_as_tensor})"
   ]
  },
  {
   "cell_type": "code",
   "execution_count": 178,
   "id": "2b2eb8c6",
   "metadata": {},
   "outputs": [
    {
     "name": "stdout",
     "output_type": "stream",
     "text": [
      "{'313': array([[-5.475316  , -1.6567277 , -0.74248993,  4.363352  ]],\n",
      "      dtype=float32)}\n"
     ]
    }
   ],
   "source": [
    "print(out_dict)"
   ]
  },
  {
   "cell_type": "code",
   "execution_count": null,
   "id": "3a6c7de0",
   "metadata": {},
   "outputs": [],
   "source": []
  }
 ],
 "metadata": {
  "kernelspec": {
   "display_name": "Python 3 (ipykernel)",
   "language": "python",
   "name": "python3"
  },
  "language_info": {
   "codemirror_mode": {
    "name": "ipython",
    "version": 3
   },
   "file_extension": ".py",
   "mimetype": "text/x-python",
   "name": "python",
   "nbconvert_exporter": "python",
   "pygments_lexer": "ipython3",
   "version": "3.9.7"
  }
 },
 "nbformat": 4,
 "nbformat_minor": 5
}
