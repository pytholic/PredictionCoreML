{
 "cells": [
  {
   "cell_type": "code",
   "execution_count": 55,
   "id": "f072f857",
   "metadata": {},
   "outputs": [],
   "source": [
    "import coremltools as ct\n",
    "import numpy as np\n",
    "import PIL.Image\n",
    "import cv2"
   ]
  },
  {
   "cell_type": "code",
   "execution_count": 56,
   "id": "68547a64",
   "metadata": {},
   "outputs": [],
   "source": [
    "model = ct.models.MLModel('./best_model_image.mlmodel')"
   ]
  },
  {
   "cell_type": "code",
   "execution_count": 57,
   "id": "ac8e1bc0",
   "metadata": {
    "scrolled": true
   },
   "outputs": [
    {
     "name": "stdout",
     "output_type": "stream",
     "text": [
      "[name: \"input_1\"\n",
      "type {\n",
      "  imageType {\n",
      "    width: 320\n",
      "    height: 240\n",
      "    colorSpace: RGB\n",
      "  }\n",
      "}\n",
      "]\n"
     ]
    }
   ],
   "source": [
    "# Print input description to get input shape.\n",
    "print(model.get_spec().description.input)"
   ]
  },
  {
   "cell_type": "code",
   "execution_count": 58,
   "id": "eac2743e",
   "metadata": {},
   "outputs": [],
   "source": [
    "# Scenario 1: load an image from disk.\n",
    "def load_image(path, resize_to=None):\n",
    "    # resize_to: (Width, Height)\n",
    "    img = PIL.Image.open(path)\n",
    "    img = img.convert('RGB')\n",
    "    img_np = np.array(img).astype(np.float32)\n",
    "    #img_np = (img_np - 127.5) / 127.5\n",
    "    return img_np, img"
   ]
  },
  {
   "cell_type": "code",
   "execution_count": 65,
   "id": "699a5c5a",
   "metadata": {},
   "outputs": [
    {
     "name": "stdout",
     "output_type": "stream",
     "text": [
      "RGB\n",
      "(320, 240)\n"
     ]
    }
   ],
   "source": [
    "img_np, img = load_image('./data/head_left_11.png')\n",
    "print(img.mode)\n",
    "print(img.size)"
   ]
  },
  {
   "cell_type": "code",
   "execution_count": 66,
   "id": "6a36ff38",
   "metadata": {},
   "outputs": [],
   "source": [
    "#img = cv2.imread(\"./data/head_right_6.png\", 1)\n",
    "out_dict = model.predict({'input_1': img})"
   ]
  },
  {
   "cell_type": "code",
   "execution_count": 67,
   "id": "b4c7479e",
   "metadata": {},
   "outputs": [
    {
     "name": "stdout",
     "output_type": "stream",
     "text": [
      "{'313': array([[ 8.774558 , -4.658858 , -5.9960346, -3.9109666]], dtype=float32)}\n"
     ]
    }
   ],
   "source": [
    "print(out_dict)"
   ]
  },
  {
   "cell_type": "code",
   "execution_count": null,
   "id": "2b2eb8c6",
   "metadata": {},
   "outputs": [],
   "source": []
  }
 ],
 "metadata": {
  "kernelspec": {
   "display_name": "Python 3 (ipykernel)",
   "language": "python",
   "name": "python3"
  },
  "language_info": {
   "codemirror_mode": {
    "name": "ipython",
    "version": 3
   },
   "file_extension": ".py",
   "mimetype": "text/x-python",
   "name": "python",
   "nbconvert_exporter": "python",
   "pygments_lexer": "ipython3",
   "version": "3.9.7"
  }
 },
 "nbformat": 4,
 "nbformat_minor": 5
}
