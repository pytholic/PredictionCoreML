{
 "cells": [
  {
   "cell_type": "code",
   "execution_count": 1,
   "id": "f072f857",
   "metadata": {},
   "outputs": [],
   "source": [
    "import coremltools as ct\n",
    "import numpy as np\n",
    "import PIL.Image\n",
    "import cv2"
   ]
  },
  {
   "cell_type": "code",
   "execution_count": 2,
   "id": "68547a64",
   "metadata": {},
   "outputs": [],
   "source": [
    "model = ct.models.MLModel('./best_model_tensor.mlmodel')"
   ]
  },
  {
   "cell_type": "code",
   "execution_count": 3,
   "id": "ac8e1bc0",
   "metadata": {
    "scrolled": false
   },
   "outputs": [
    {
     "name": "stdout",
     "output_type": "stream",
     "text": [
      "[name: \"input_1\"\n",
      "type {\n",
      "  multiArrayType {\n",
      "    shape: 1\n",
      "    shape: 3\n",
      "    shape: 240\n",
      "    shape: 320\n",
      "    dataType: FLOAT32\n",
      "  }\n",
      "}\n",
      "]\n"
     ]
    }
   ],
   "source": [
    "# Print input description to get input shape.\n",
    "print(model.get_spec().description.input)"
   ]
  },
  {
   "cell_type": "code",
   "execution_count": 4,
   "id": "7c1a66ed",
   "metadata": {},
   "outputs": [],
   "source": [
    "model_expected_input_shape = (1, 3, 240, 320)"
   ]
  },
  {
   "cell_type": "code",
   "execution_count": 5,
   "id": "02859a67",
   "metadata": {},
   "outputs": [],
   "source": [
    "def load_image_as_np_array(path, resize_to=None):\n",
    "    img = PIL.Image.open(path)\n",
    "    img = img.convert('RGB')\n",
    "    img_np = np.array(img).astype(np.float32)\n",
    "    img_np = (img_np - 127.5) / 127.5\n",
    "    return img_np"
   ]
  },
  {
   "cell_type": "code",
   "execution_count": 33,
   "id": "d579b201",
   "metadata": {},
   "outputs": [],
   "source": [
    "img_as_np_array = load_image_as_np_array('./data/standing_3.png')"
   ]
  },
  {
   "cell_type": "code",
   "execution_count": 34,
   "id": "faaaa949",
   "metadata": {},
   "outputs": [
    {
     "name": "stdout",
     "output_type": "stream",
     "text": [
      "(240, 320, 3)\n"
     ]
    }
   ],
   "source": [
    "print(img_as_np_array.shape)"
   ]
  },
  {
   "cell_type": "code",
   "execution_count": 35,
   "id": "e10457d0",
   "metadata": {},
   "outputs": [],
   "source": [
    "img_as_np_array = np.transpose(img_as_np_array, (2, 0, 1))"
   ]
  },
  {
   "cell_type": "code",
   "execution_count": 36,
   "id": "c7d2d556",
   "metadata": {},
   "outputs": [
    {
     "name": "stdout",
     "output_type": "stream",
     "text": [
      "(3, 240, 320)\n"
     ]
    }
   ],
   "source": [
    "print(img_as_np_array.shape)"
   ]
  },
  {
   "cell_type": "code",
   "execution_count": 37,
   "id": "646ff710",
   "metadata": {},
   "outputs": [
    {
     "data": {
      "text/plain": [
       "array([[[[0., 0., 0., ..., 0., 0., 0.],\n",
       "         [0., 0., 0., ..., 0., 0., 0.],\n",
       "         [0., 0., 0., ..., 0., 0., 0.],\n",
       "         ...,\n",
       "         [0., 0., 0., ..., 0., 0., 0.],\n",
       "         [0., 0., 0., ..., 0., 0., 0.],\n",
       "         [0., 0., 0., ..., 0., 0., 0.]],\n",
       "\n",
       "        [[0., 0., 0., ..., 0., 0., 0.],\n",
       "         [0., 0., 0., ..., 0., 0., 0.],\n",
       "         [0., 0., 0., ..., 0., 0., 0.],\n",
       "         ...,\n",
       "         [0., 0., 0., ..., 0., 0., 0.],\n",
       "         [0., 0., 0., ..., 0., 0., 0.],\n",
       "         [0., 0., 0., ..., 0., 0., 0.]],\n",
       "\n",
       "        [[0., 0., 0., ..., 0., 0., 0.],\n",
       "         [0., 0., 0., ..., 0., 0., 0.],\n",
       "         [0., 0., 0., ..., 0., 0., 0.],\n",
       "         ...,\n",
       "         [0., 0., 0., ..., 0., 0., 0.],\n",
       "         [0., 0., 0., ..., 0., 0., 0.],\n",
       "         [0., 0., 0., ..., 0., 0., 0.]]]], dtype=float32)"
      ]
     },
     "execution_count": 37,
     "metadata": {},
     "output_type": "execute_result"
    }
   ],
   "source": [
    "img_as_np_array - np.reshape(img_as_np_array, model_expected_input_shape)"
   ]
  },
  {
   "cell_type": "code",
   "execution_count": 38,
   "id": "e61adb68",
   "metadata": {},
   "outputs": [],
   "source": [
    "img_as_np_array = np.expand_dims(img_as_np_array, axis=0)"
   ]
  },
  {
   "cell_type": "code",
   "execution_count": 39,
   "id": "22aaaca4",
   "metadata": {},
   "outputs": [
    {
     "name": "stdout",
     "output_type": "stream",
     "text": [
      "(1, 3, 240, 320)\n"
     ]
    }
   ],
   "source": [
    "print(img_as_np_array.shape)"
   ]
  },
  {
   "cell_type": "code",
   "execution_count": 40,
   "id": "93f40a3f",
   "metadata": {},
   "outputs": [],
   "source": [
    "out_dict = model.predict({'input_1': img_as_np_array})"
   ]
  },
  {
   "cell_type": "code",
   "execution_count": 41,
   "id": "2b2eb8c6",
   "metadata": {},
   "outputs": [
    {
     "name": "stdout",
     "output_type": "stream",
     "text": [
      "{'313': array([[-5.475316  , -1.6567277 , -0.74248993,  4.363352  ]],\n",
      "      dtype=float32)}\n"
     ]
    }
   ],
   "source": [
    "print(out_dict)"
   ]
  },
  {
   "cell_type": "code",
   "execution_count": null,
   "id": "0cb4e91f",
   "metadata": {},
   "outputs": [],
   "source": []
  }
 ],
 "metadata": {
  "kernelspec": {
   "display_name": "Python 3 (ipykernel)",
   "language": "python",
   "name": "python3"
  },
  "language_info": {
   "codemirror_mode": {
    "name": "ipython",
    "version": 3
   },
   "file_extension": ".py",
   "mimetype": "text/x-python",
   "name": "python",
   "nbconvert_exporter": "python",
   "pygments_lexer": "ipython3",
   "version": "3.9.7"
  }
 },
 "nbformat": 4,
 "nbformat_minor": 5
}
